{
  "nbformat": 4,
  "nbformat_minor": 0,
  "metadata": {
    "colab": {
      "provenance": [],
      "collapsed_sections": []
    },
    "kernelspec": {
      "name": "python3",
      "display_name": "Python 3"
    },
    "language_info": {
      "name": "python"
    }
  },
  "cells": [
    {
      "cell_type": "markdown",
      "source": [
        "#Numpy is to handle the Numerical Values"
      ],
      "metadata": {
        "id": "sYGAnQQ1NcIi"
      }
    },
    {
      "cell_type": "code",
      "execution_count": null,
      "metadata": {
        "id": "EaQQ_JLk7dn_"
      },
      "outputs": [],
      "source": [
        "import numpy as np"
      ]
    },
    {
      "cell_type": "markdown",
      "source": [
        "#Pandas is used to Read(or)Write the CSV .Mostly the DataSet are in the form of .csv"
      ],
      "metadata": {
        "id": "vEIbRdjlNcOg"
      }
    },
    {
      "cell_type": "code",
      "source": [
        "\n",
        "import pandas as pd"
      ],
      "metadata": {
        "id": "j0dXWpKtODvw"
      },
      "execution_count": null,
      "outputs": []
    },
    {
      "cell_type": "markdown",
      "source": [
        "#The Matplotlib is used Visualize the Data in the Graph form"
      ],
      "metadata": {
        "id": "fEiefKENNcoJ"
      }
    },
    {
      "cell_type": "code",
      "source": [
        "import matplotlib.pyplot as plt"
      ],
      "metadata": {
        "id": "rLDmrw6KOG4j"
      },
      "execution_count": null,
      "outputs": []
    },
    {
      "cell_type": "code",
      "source": [
        "import matplotlib.pyplot as plt\n"
      ],
      "metadata": {
        "id": "jNBf2EfG7-OB"
      },
      "execution_count": null,
      "outputs": []
    },
    {
      "cell_type": "markdown",
      "source": [],
      "metadata": {
        "id": "tuutodtXOFZb"
      }
    },
    {
      "cell_type": "code",
      "source": [],
      "metadata": {
        "id": "ceS-BqipOF-i"
      },
      "execution_count": null,
      "outputs": []
    },
    {
      "cell_type": "code",
      "source": [
        "df2=pd.read_csv(\"/content/International_Report_Passengers.csv\")"
      ],
      "metadata": {
        "id": "GjA3Gi2R9JTe"
      },
      "execution_count": null,
      "outputs": []
    },
    {
      "cell_type": "markdown",
      "source": [
        "The Dataset is have more then 4,000 so for practice the take 100 datas"
      ],
      "metadata": {
        "id": "QUjol0kvTD3m"
      }
    },
    {
      "cell_type": "code",
      "source": [
        "data_1=df1.head(100)"
      ],
      "metadata": {
        "id": "75t12m4TGCmu"
      },
      "execution_count": null,
      "outputs": []
    },
    {
      "cell_type": "code",
      "source": [
        "data1=df1.sample(100)"
      ],
      "metadata": {
        "id": "J1WxjYHyLVul"
      },
      "execution_count": null,
      "outputs": []
    },
    {
      "cell_type": "code",
      "source": [
        "data2=df2.sample(100)"
      ],
      "metadata": {
        "id": "PxciUzR5NKql"
      },
      "execution_count": null,
      "outputs": []
    },
    {
      "cell_type": "code",
      "source": [
        "data_2=df2.head(100)"
      ],
      "metadata": {
        "id": "Fwb3nqvTTgRV"
      },
      "execution_count": null,
      "outputs": []
    },
    {
      "cell_type": "code",
      "source": [],
      "metadata": {
        "id": "XXgvV14z_JHs"
      },
      "execution_count": null,
      "outputs": []
    },
    {
      "cell_type": "code",
      "source": [
        "data_2.describe()"
      ],
      "metadata": {
        "id": "U64r1ixA_NoN"
      },
      "execution_count": null,
      "outputs": []
    },
    {
      "cell_type": "code",
      "source": [
        "data_1.head()"
      ],
      "metadata": {
        "id": "nW4UFzlP_S9k"
      },
      "execution_count": null,
      "outputs": []
    },
    {
      "cell_type": "code",
      "source": [
        "A=data_1.groupby(\"Month\")\n",
        "A.get_group(5)"
      ],
      "metadata": {
        "id": "ts2Y85as_Y_F"
      },
      "execution_count": null,
      "outputs": []
    },
    {
      "cell_type": "code",
      "source": [
        "print(pd.merge(df1,df2,left_index=True,right_index=True))"
      ],
      "metadata": {
        "id": "YoWYpHEgCR7L"
      },
      "execution_count": null,
      "outputs": []
    },
    {
      "cell_type": "code",
      "source": [
        "\n"
      ],
      "metadata": {
        "id": "zj0i8Hg2LvpL"
      },
      "execution_count": null,
      "outputs": []
    },
    {
      "cell_type": "code",
      "source": [
        "data1.info()"
      ],
      "metadata": {
        "id": "QrE4SPuYL2_q"
      },
      "execution_count": null,
      "outputs": []
    },
    {
      "cell_type": "code",
      "source": [
        "X=data_1.Year\n",
        "Y=data_1.Month\n",
        "plt.xlabel('Year')\n",
        "plt.ylabel('Charter')\n",
        "plt.pie(X,Y)\n",
        "plt.show()"
      ],
      "metadata": {
        "id": "KJEKk-UOCytf"
      },
      "execution_count": null,
      "outputs": []
    },
    {
      "cell_type": "markdown",
      "source": [
        "Below code of line is for Scatter plot"
      ],
      "metadata": {
        "id": "oDl9Lj7MKRqB"
      }
    },
    {
      "cell_type": "code",
      "source": [
        "plt.scatter(X,Y)\n",
        "plt.show()"
      ],
      "metadata": {
        "id": "6OaTbHraMq-s"
      },
      "execution_count": null,
      "outputs": []
    },
    {
      "cell_type": "code",
      "source": [
        "data_1.plot()"
      ],
      "metadata": {
        "id": "7rIB8pnFEOG-"
      },
      "execution_count": null,
      "outputs": []
    },
    {
      "cell_type": "code",
      "source": [
        "data1.plot()\n",
        "\n"
      ],
      "metadata": {
        "id": "2QizUG5fLcCD"
      },
      "execution_count": null,
      "outputs": []
    },
    {
      "cell_type": "markdown",
      "source": [
        "Below code is to represent the bar graph"
      ],
      "metadata": {
        "id": "A-4kuh_qKicy"
      }
    },
    {
      "cell_type": "code",
      "source": [
        "data_1.plot(kind='bar')"
      ],
      "metadata": {
        "id": "LNLPDbRuKP86"
      },
      "execution_count": null,
      "outputs": []
    },
    {
      "cell_type": "code",
      "source": [
        "data1.plot(kind='bar')"
      ],
      "metadata": {
        "id": "5RQ_YzXqKmZq"
      },
      "execution_count": null,
      "outputs": []
    },
    {
      "cell_type": "markdown",
      "source": [
        "TO get Information from the dataset "
      ],
      "metadata": {
        "id": "vFDK_S0zKxAP"
      }
    },
    {
      "cell_type": "code",
      "source": [
        "data_2.info()"
      ],
      "metadata": {
        "id": "1soQT6e3M_PD"
      },
      "execution_count": null,
      "outputs": []
    },
    {
      "cell_type": "code",
      "source": [
        "data2.info()"
      ],
      "metadata": {
        "id": "sqN5odNyNcyL"
      },
      "execution_count": null,
      "outputs": []
    },
    {
      "cell_type": "code",
      "source": [
        "x=data_2.airlineid\n",
        "y=data_2.Month \n",
        "plt.xlabel(\"airlineid\")     \n",
        "plt.ylabel(\"Month\")  \n",
        "plt.plot(x,y)\n",
        "plt.show()"
      ],
      "metadata": {
        "id": "6X9T9biDOcLb"
      },
      "execution_count": null,
      "outputs": []
    },
    {
      "cell_type": "code",
      "source": [
        "plt.scatter(x,y)"
      ],
      "metadata": {
        "id": "s-wHOv4AKHSd"
      },
      "execution_count": null,
      "outputs": []
    },
    {
      "cell_type": "code",
      "source": [
        "plt.pie(x,y)\n",
        "plt.show()"
      ],
      "metadata": {
        "id": "2fX8cHkNJZQ-"
      },
      "execution_count": null,
      "outputs": []
    },
    {
      "cell_type": "code",
      "source": [
        "data_2.info()"
      ],
      "metadata": {
        "id": "1_tyrVsaJq8e"
      },
      "execution_count": null,
      "outputs": []
    },
    {
      "cell_type": "code",
      "source": [
        "data_2.plot(kind='bar')"
      ],
      "metadata": {
        "id": "14cBfWfIJ1W6"
      },
      "execution_count": null,
      "outputs": []
    },
    {
      "cell_type": "code",
      "source": [],
      "metadata": {
        "id": "Rl671pEcPa39"
      },
      "execution_count": null,
      "outputs": []
    }
  ]
}